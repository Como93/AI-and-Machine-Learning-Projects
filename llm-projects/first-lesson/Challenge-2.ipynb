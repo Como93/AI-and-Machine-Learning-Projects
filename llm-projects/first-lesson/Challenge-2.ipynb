{
 "cells": [
  {
   "cell_type": "markdown",
   "id": "fe12c203-e6a6-452c-a655-afb8a03a4ff5",
   "metadata": {},
   "source": [
    "# End of week 1 exercise\n",
    "\n",
    "To demonstrate your familiarity with OpenAI API, and also Ollama, build a tool that takes a technical question,  \n",
    "and responds with an explanation. This is a tool that you will be able to use yourself during the course!"
   ]
  },
  {
   "cell_type": "code",
   "execution_count": 1,
   "id": "c1070317-3ed9-4659-abe3-828943230e03",
   "metadata": {},
   "outputs": [],
   "source": [
    "# imports\n",
    "from dotenv import load_dotenv\n",
    "from openai import OpenAI\n",
    "from IPython.display import Markdown, display, update_display\n",
    "import ollama"
   ]
  },
  {
   "cell_type": "code",
   "execution_count": 2,
   "id": "4a456906-915a-4bfd-bb9d-57e505c5093f",
   "metadata": {},
   "outputs": [],
   "source": [
    "# constants\n",
    "\n",
    "MODEL_GPT = 'gpt-4o-mini'\n",
    "MODEL_LLAMA = 'llama3.2'"
   ]
  },
  {
   "cell_type": "code",
   "execution_count": 3,
   "id": "a8d7923c-5f28-4c30-8556-342d7c8497c1",
   "metadata": {},
   "outputs": [],
   "source": [
    "# set up environment\n",
    "load_dotenv(override=True)\n",
    "openai = OpenAI()"
   ]
  },
  {
   "cell_type": "code",
   "execution_count": 4,
   "id": "3f0d0137-52b0-47a8-81a8-11a90a010798",
   "metadata": {},
   "outputs": [],
   "source": [
    "# here is the question; type over this to ask something new\n",
    "\n",
    "question = \"\"\"\n",
    "Please explain what this code does and why:\n",
    "yield from {book.get(\"author\") for book in books if book.get(\"author\")}\n",
    "\"\"\""
   ]
  },
  {
   "cell_type": "code",
   "execution_count": 5,
   "id": "c2c0d61e-7a44-47e4-bb09-a19319b76886",
   "metadata": {},
   "outputs": [],
   "source": [
    "# prompts\n",
    "system_prompt = \"You are a python assistant and your role is to help developers to understand python code\" \n",
    "question += \"\"\"\n",
    "Provide also a simple example\n",
    "\"\"\""
   ]
  },
  {
   "cell_type": "code",
   "execution_count": 8,
   "id": "0d4f1b93-9d24-40da-beab-634e7d8a3dfb",
   "metadata": {},
   "outputs": [],
   "source": [
    "messages=[\n",
    "            {\"role\": \"system\", \"content\": system_prompt},\n",
    "            {\"role\": \"user\", \"content\": question}\n",
    "          ]"
   ]
  },
  {
   "cell_type": "code",
   "execution_count": 9,
   "id": "60ce7000-a4a5-4cce-a261-e75ef45063b4",
   "metadata": {},
   "outputs": [
    {
     "data": {
      "text/markdown": [
       "Certainly! Let's break down the code you've provided.\n",
       "\n",
       "### Explanation of the Code\n",
       "The line of code you've shared utilizes the `yield from` statement in Python, along with a set comprehension. Here's what each part means:\n",
       "\n",
       "1. **Set Comprehension**: \n",
       "   - `{book.get(\"author\") for book in books if book.get(\"author\")}` creates a set of unique author names. \n",
       "   - The expression iterates over a collection called `books` (which we assume is a list of dictionaries).\n",
       "   - For each `book` in `books`, it attempts to get the value associated with the key `\"author\"` using the `get` method.\n",
       "   - `if book.get(\"author\")` ensures that only books with a defined author (i.e., not `None` or an empty string) are included in the set.\n",
       "\n",
       "2. **`yield from`**:\n",
       "   - `yield from` is used to yield all values from an iterable (like a set) one at a time. This means each author in the generated set is produced as output of the surrounding generator function.\n",
       "\n",
       "Thus, the whole expression will yield all unique authors from the `books` collection.\n",
       "\n",
       "### Why Use This Code?\n",
       "- By using a set comprehension, it prevents duplicate author names, ensuring each author's name is only yielded once.\n",
       "- The use of `yield from` allows for an efficient way to produce a sequence of values from a generator without needing an explicit loop.\n",
       "\n",
       "### Simple Example\n",
       "Let's consider a simple scenario where we have a list of books represented as dictionaries. We will define a generator function that uses your line of code.\n",
       "\n",
       "python\n",
       "def get_unique_authors(books):\n",
       "    yield from {book.get(\"author\") for book in books if book.get(\"author\")}\n",
       "\n",
       "# Example list of books\n",
       "books = [\n",
       "    {\"title\": \"Book One\", \"author\": \"Author A\"},\n",
       "    {\"title\": \"Book Two\", \"author\": \"Author B\"},\n",
       "    {\"title\": \"Book Three\", \"author\": \"Author A\"},\n",
       "    {\"title\": \"Book Four\", \"author\": None},\n",
       "    {\"title\": \"Book Five\", \"author\": \"\"},\n",
       "]\n",
       "\n",
       "# Using the generator to print unique authors\n",
       "for author in get_unique_authors(books):\n",
       "    print(author)\n",
       "\n",
       "\n",
       "### Output\n",
       "This code would yield:\n",
       "\n",
       "Author A\n",
       "Author B\n",
       "\n",
       "\n",
       "### Explanation of Example\n",
       "- We define a list of dictionaries called `books`. Each book may or may not have an author.\n",
       "- The `get_unique_authors` function yields unique authors by using the set comprehension inside the `yield from`.\n",
       "- When we loop through the generator returned by `get_unique_authors(books)`, it prints each unique author only once.\n",
       "\n",
       "This example checks to ensure that only non-empty and non-null authors are included, illustrating how the original code operates."
      ],
      "text/plain": [
       "<IPython.core.display.Markdown object>"
      ]
     },
     "metadata": {},
     "output_type": "display_data"
    }
   ],
   "source": [
    "# Get gpt-4o-mini to answer, with streaming\n",
    "stream = openai.chat.completions.create(\n",
    "        model=MODEL_GPT,\n",
    "        messages=messages,\n",
    "        stream=True\n",
    "    )\n",
    "\n",
    "response = \"\"\n",
    "display_handle = display(Markdown(\"\"), display_id=True)\n",
    "for chunk in stream:\n",
    "    response += chunk.choices[0].delta.content or ''\n",
    "    response = response.replace(\"```\",\"\").replace(\"markdown\", \"\")\n",
    "    update_display(Markdown(response), display_id=display_handle.display_id)\n"
   ]
  },
  {
   "cell_type": "code",
   "execution_count": 10,
   "id": "8f7c8ea8-4082-4ad0-8751-3301adcf6538",
   "metadata": {},
   "outputs": [
    {
     "data": {
      "text/markdown": [
       "**Explanation:**\n",
       "\n",
       "The given code uses a combination of Python features to extract author names from a list of dictionaries (`books`).\n",
       "\n",
       "Here's what happens:\n",
       "\n",
       "1. `{...}` creates an iterator that yields values from the expression inside.\n",
       "2. `book.get(\"author\")` accesses the value associated with the key `\"author\"` in each dictionary `book`.\n",
       "3. The `if book.get(\"author\")` condition filters out dictionaries that don't have an `\"author\"` key.\n",
       "\n",
       "**Yield From**\n",
       "\n",
       "The `yield from` syntax is used to delegate iteration to another iterator. In this case, it's delegating iteration to the iterator created by `{...}`.\n",
       "\n",
       "When you use `yield from`, the current function yields values from the delegated iterator one at a time, without having to store all the values in memory at once.\n",
       "\n",
       "**Example:**\n",
       "\n",
       "Suppose we have a list of books with their respective authors:\n",
       "\n",
       "```python\n",
       "books = [\n",
       "    {\"title\": \"Book 1\", \"author\": \"Author A\"},\n",
       "    {\"title\": \"Book 2\", \"author\": \"Author B\"},\n",
       "    {\"title\": \"Book 3\"},  # no author\n",
       "    {\"title\": \"Book 4\", \"author\": \"Author D\"}\n",
       "]\n",
       "```\n",
       "\n",
       "Now, let's use the given code to extract the authors:\n",
       "\n",
       "```python\n",
       "authors = yield from {book.get(\"author\") for book in books if book.get(\"author\")}\n",
       "print(authors)  # Output: [\"Author A\", \"Author B\", \"Author D\"]\n",
       "```\n",
       "\n",
       "In this example, the `yield from` expression yields the author names one by one, skipping the dictionary with no author.\n",
       "\n",
       "**Note:** If you run this code in an interactive Python environment or a debugger, it will pause execution at each iteration, allowing you to inspect the yielded values."
      ],
      "text/plain": [
       "<IPython.core.display.Markdown object>"
      ]
     },
     "metadata": {},
     "output_type": "display_data"
    }
   ],
   "source": [
    "# Get Llama 3.2 to answer\n",
    "response = ollama.chat(model=MODEL_LLAMA, messages=messages)\n",
    "reply = response['message']['content']\n",
    "display(Markdown(reply))"
   ]
  },
  {
   "cell_type": "code",
   "execution_count": null,
   "id": "b2bab244-220c-4cbf-ac45-88d3821a34f9",
   "metadata": {},
   "outputs": [],
   "source": []
  }
 ],
 "metadata": {
  "kernelspec": {
   "display_name": "Python 3 (ipykernel)",
   "language": "python",
   "name": "python3"
  },
  "language_info": {
   "codemirror_mode": {
    "name": "ipython",
    "version": 3
   },
   "file_extension": ".py",
   "mimetype": "text/x-python",
   "name": "python",
   "nbconvert_exporter": "python",
   "pygments_lexer": "ipython3",
   "version": "3.11.12"
  }
 },
 "nbformat": 4,
 "nbformat_minor": 5
}
